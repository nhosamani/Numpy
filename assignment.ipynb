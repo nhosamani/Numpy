{
  "nbformat": 4,
  "nbformat_minor": 0,
  "metadata": {
    "colab": {
      "provenance": [],
      "collapsed_sections": [],
      "authorship_tag": "ABX9TyNAOSSLZAy/hp7P/leIGJBP",
      "include_colab_link": true
    },
    "kernelspec": {
      "name": "python3",
      "display_name": "Python 3"
    },
    "language_info": {
      "name": "python"
    }
  },
  "cells": [
    {
      "cell_type": "markdown",
      "metadata": {
        "id": "view-in-github",
        "colab_type": "text"
      },
      "source": [
        "<a href=\"https://colab.research.google.com/github/nhosamani/Numpy/blob/main/assignment.ipynb\" target=\"_parent\"><img src=\"https://colab.research.google.com/assets/colab-badge.svg\" alt=\"Open In Colab\"/></a>"
      ]
    },
    {
      "cell_type": "code",
      "execution_count": 16,
      "metadata": {
        "colab": {
          "base_uri": "https://localhost:8080/"
        },
        "id": "A9eTc2aMIrE2",
        "outputId": "7eb1d21e-12cc-44cd-a50c-b21c00135ad1"
      },
      "outputs": [
        {
          "output_type": "execute_result",
          "data": {
            "text/plain": [
              "array([0, 0, 0, 0, 1, 0, 0, 0, 0, 0])"
            ]
          },
          "metadata": {},
          "execution_count": 16
        }
      ],
      "source": [
        "#1. Create a null vector of size 10 but the fifth value which is 1.\n",
        "import numpy as np\n",
        "a=np.zeros(10);\n",
        "a[4]=1;\n",
        "a\n",
        "\n",
        "# OR \n",
        "b=np.arange(10)==4;\n",
        "b=b*1;\n",
        "b"
      ]
    },
    {
      "cell_type": "code",
      "source": [
        "#2. Create a vector with values ranging from 10 to 49.\n",
        "a=np.arange(10,50)\n",
        "a\n",
        "\n",
        "\n"
      ],
      "metadata": {
        "colab": {
          "base_uri": "https://localhost:8080/"
        },
        "id": "yxkZje1BI_FE",
        "outputId": "2b045090-3fdf-42ad-a9d7-6d5ab2c69fa8"
      },
      "execution_count": 17,
      "outputs": [
        {
          "output_type": "execute_result",
          "data": {
            "text/plain": [
              "array([10, 11, 12, 13, 14, 15, 16, 17, 18, 19, 20, 21, 22, 23, 24, 25, 26,\n",
              "       27, 28, 29, 30, 31, 32, 33, 34, 35, 36, 37, 38, 39, 40, 41, 42, 43,\n",
              "       44, 45, 46, 47, 48, 49])"
            ]
          },
          "metadata": {},
          "execution_count": 17
        }
      ]
    },
    {
      "cell_type": "code",
      "source": [
        "#3.Create a 3x3 matrix with values ranging from 0 to 8\n",
        "m=np.arange(0,9).reshape(3,3)\n",
        "m\n",
        "\n",
        "\n"
      ],
      "metadata": {
        "colab": {
          "base_uri": "https://localhost:8080/"
        },
        "id": "2pUyO31kLf9V",
        "outputId": "0e2f4855-5a93-4c51-f3e7-9270ae9a5f13"
      },
      "execution_count": 28,
      "outputs": [
        {
          "output_type": "execute_result",
          "data": {
            "text/plain": [
              "array([[0, 1, 2],\n",
              "       [3, 4, 5],\n",
              "       [6, 7, 8]])"
            ]
          },
          "metadata": {},
          "execution_count": 28
        }
      ]
    },
    {
      "cell_type": "code",
      "source": [
        "#4. Find indices of non-zero elements from [1,2,0,0,4,0]\n",
        "a=np.array([1,2,0,0,4,0]);\n",
        "np.nonzero(a);\n",
        "np.transpose(np.nonzero(a))"
      ],
      "metadata": {
        "colab": {
          "base_uri": "https://localhost:8080/"
        },
        "id": "qP-WUTa0Nlwi",
        "outputId": "77fc3aae-d3b6-4d41-8b47-3112eba63f52"
      },
      "execution_count": 38,
      "outputs": [
        {
          "output_type": "execute_result",
          "data": {
            "text/plain": [
              "array([[0],\n",
              "       [1],\n",
              "       [4]])"
            ]
          },
          "metadata": {},
          "execution_count": 38
        }
      ]
    },
    {
      "cell_type": "code",
      "source": [
        "#5. Create a 10x10 array with random values and find the minimum and maximum values.\n",
        "np.random.seed(0);\n",
        "a=np.random.rand(10,10);\n",
        "print(\"array\",a)\n",
        "max=np.max(a)\n",
        "min=np.min(a)\n",
        "print(\"Max is\",max)\n",
        "print(\"Min is\",min)"
      ],
      "metadata": {
        "colab": {
          "base_uri": "https://localhost:8080/"
        },
        "id": "zQjPSIc9Mc1r",
        "outputId": "004e5432-b764-432e-9e96-946d9cf6a44a"
      },
      "execution_count": 58,
      "outputs": [
        {
          "output_type": "stream",
          "name": "stdout",
          "text": [
            "array [[0.5488135  0.71518937 0.60276338 0.54488318 0.4236548  0.64589411\n",
            "  0.43758721 0.891773   0.96366276 0.38344152]\n",
            " [0.79172504 0.52889492 0.56804456 0.92559664 0.07103606 0.0871293\n",
            "  0.0202184  0.83261985 0.77815675 0.87001215]\n",
            " [0.97861834 0.79915856 0.46147936 0.78052918 0.11827443 0.63992102\n",
            "  0.14335329 0.94466892 0.52184832 0.41466194]\n",
            " [0.26455561 0.77423369 0.45615033 0.56843395 0.0187898  0.6176355\n",
            "  0.61209572 0.616934   0.94374808 0.6818203 ]\n",
            " [0.3595079  0.43703195 0.6976312  0.06022547 0.66676672 0.67063787\n",
            "  0.21038256 0.1289263  0.31542835 0.36371077]\n",
            " [0.57019677 0.43860151 0.98837384 0.10204481 0.20887676 0.16130952\n",
            "  0.65310833 0.2532916  0.46631077 0.24442559]\n",
            " [0.15896958 0.11037514 0.65632959 0.13818295 0.19658236 0.36872517\n",
            "  0.82099323 0.09710128 0.83794491 0.09609841]\n",
            " [0.97645947 0.4686512  0.97676109 0.60484552 0.73926358 0.03918779\n",
            "  0.28280696 0.12019656 0.2961402  0.11872772]\n",
            " [0.31798318 0.41426299 0.0641475  0.69247212 0.56660145 0.26538949\n",
            "  0.52324805 0.09394051 0.5759465  0.9292962 ]\n",
            " [0.31856895 0.66741038 0.13179786 0.7163272  0.28940609 0.18319136\n",
            "  0.58651293 0.02010755 0.82894003 0.00469548]]\n",
            "Max is 0.9883738380592262\n",
            "Min is 0.004695476192547066\n"
          ]
        }
      ]
    },
    {
      "cell_type": "code",
      "source": [
        "#6. Create a random vector of size 30 and find the mean value.\n",
        "np.random.seed(10)\n",
        "a=np.random.rand(30)\n",
        "print(\"array\",a)\n",
        "mean=np.mean(a)\n",
        "print(\"mean\",mean)\n"
      ],
      "metadata": {
        "colab": {
          "base_uri": "https://localhost:8080/"
        },
        "id": "zxTMvzuOYvWr",
        "outputId": "47a85729-3d16-4496-a17f-4fc68bb7d7aa"
      },
      "execution_count": 61,
      "outputs": [
        {
          "output_type": "stream",
          "name": "stdout",
          "text": [
            "array [0.77132064 0.02075195 0.63364823 0.74880388 0.49850701 0.22479665\n",
            " 0.19806286 0.76053071 0.16911084 0.08833981 0.68535982 0.95339335\n",
            " 0.00394827 0.51219226 0.81262096 0.61252607 0.72175532 0.29187607\n",
            " 0.91777412 0.71457578 0.54254437 0.14217005 0.37334076 0.67413362\n",
            " 0.44183317 0.43401399 0.61776698 0.51313824 0.65039718 0.60103895]\n",
            "mean 0.5110090641579068\n"
          ]
        }
      ]
    }
  ]
}